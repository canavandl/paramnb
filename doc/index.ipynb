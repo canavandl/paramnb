{
 "cells": [
  {
   "cell_type": "markdown",
   "metadata": {
    "urth": {
     "dashboard": {
      "hidden": true
     }
    }
   },
   "source": [
    "ParamNB is a small library that represents Parameters (defined using the [Param library](https://github.com/ioam/param)) graphically in a Jupyter notebook using [ipywidgets](https://ipywidgets.readthedocs.io).\n",
    "\n",
    "To use ParamNB, first declare a Parameterized class with some Parameters:"
   ]
  },
  {
   "cell_type": "code",
   "execution_count": null,
   "metadata": {
    "collapsed": false
   },
   "outputs": [],
   "source": [
    "import param, paramnb\n",
    "\n",
    "class Example(param.Parameterized):\n",
    "    \"\"\"An example parameterized class\"\"\"\n",
    "    x = param.Parameter(default=3.14,doc=\"X position\")\n",
    "    y = param.Parameter(default=\"Not editable\",constant=True)\n",
    "    string_value = param.String(default=\"str\",doc=\"A string\")\n",
    "    num_int = param.Integer(50000,bounds=(-200,100000))\n",
    "    unbounded_int = param.Integer(23)\n",
    "    float_with_hard_bounds = param.Number(8.2,bounds=(7.5,10))\n",
    "    float_with_soft_bounds = param.Number(0.5,bounds=(0,None),softbounds=(0,2))\n",
    "    unbounded_float = param.Number(30.01)    \n",
    "    boolean = param.Boolean(True, doc=\"A sample Boolean parameter\")\n",
    "    select_string = param.ObjectSelector(default=\"yellow\",objects=[\"red\",\"yellow\",\"green\",\"blue\"])\n",
    "    select_fn = param.ObjectSelector(default=list,objects=[list,set,dict])\n",
    "    int_list = paramnb.ListSelector(default=[3,5], objects=[1,3,5,7,9])\n",
    "    single_file = paramnb.FileSelector(path='../*/*.py*')\n",
    "    multiple_files = paramnb.MultiFileSelector(path='../*/*.py?')\n",
    "    \n",
    "Example.num_int"
   ]
  },
  {
   "cell_type": "markdown",
   "metadata": {},
   "source": [
    "You can then display and edit these parameter values at the class level by wrapping the Parameterized class in a ``paramnb.Widgets`` object.  Because we want the user to have an opportunity to edit these values before the remainder of the notebook is executed, we also declare the ``execute`` mode to be `below`, which provide a `Run below` button to allow the user to execute the subsequent cells."
   ]
  },
  {
   "cell_type": "code",
   "execution_count": null,
   "metadata": {
    "collapsed": false,
    "urth": {
     "dashboard": {
      "hidden": true
     }
    }
   },
   "outputs": [],
   "source": [
    "def callback(pobj):\n",
    "    print(pobj,Example.num_int,Example.unbounded_int)\n",
    "\n",
    "paramnb.Widgets(Example,button=False,next_n=0)\n"
   ]
  },
  {
   "cell_type": "markdown",
   "metadata": {},
   "source": [
    "If you now look at the values of the Parameters at the class level, you can see that they have changed to whatever was selected interactively above:"
   ]
  },
  {
   "cell_type": "code",
   "execution_count": null,
   "metadata": {
    "collapsed": true
   },
   "outputs": [],
   "source": [
    "Example.unbounded_int\n"
   ]
  },
  {
   "cell_type": "code",
   "execution_count": null,
   "metadata": {
    "collapsed": true
   },
   "outputs": [],
   "source": [
    "Example.num_int"
   ]
  },
  {
   "cell_type": "code",
   "execution_count": null,
   "metadata": {
    "collapsed": false
   },
   "outputs": [],
   "source": [
    "Example.print_param_defaults()"
   ]
  },
  {
   "cell_type": "markdown",
   "metadata": {},
   "source": [
    "Subsequent cells can now refer to these values, e.g. as `Example.num_int`.  \n",
    "\n",
    "There are several different options to tell `Widgets` how you want the selected values to affect subsequent cells:\n",
    "\n",
    "- **Default**: Leave off the `execute` argument, and simply re-run the subsequent cells whenever you want them to use the newly changed values\n",
    "\n",
    "- **`execute='below'`**: Provide a `Run below` button, which should be pressed after editing the parameter values when ready to run the subsequent cells.\n",
    "\n",
    "- **`execute='next'`**: Provide a `Next` button, which should be pressed after editing the parameter values when ready to run the next cell.  Useful if you want to have a series of cells where the behavior depends on the settings chosen interactively in the previous cell.\n",
    "\n",
    "- **`callback=<some_python_callable>`**: Allows you to define a callback that will be run whenever a parameter value changes (if `Widgets.on_change==True`) or otherwise whenever the `Next` or `Run below` buttons is pressed."
   ]
  }
 ],
 "metadata": {
  "hide_input": false,
  "kernelspec": {
   "display_name": "Python 2",
   "language": "python",
   "name": "python2"
  },
  "language_info": {
   "codemirror_mode": {
    "name": "ipython",
    "version": 2
   },
   "file_extension": ".py",
   "mimetype": "text/x-python",
   "name": "python",
   "nbconvert_exporter": "python",
   "pygments_lexer": "ipython2",
   "version": "2.7.11"
  },
  "widgets": {
   "state": {},
   "version": "1.1.1"
  }
 },
 "nbformat": 4,
 "nbformat_minor": 0
}
