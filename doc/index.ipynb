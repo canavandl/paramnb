{
 "cells": [
  {
   "cell_type": "markdown",
   "metadata": {
    "urth": {
     "dashboard": {
      "hidden": true
     }
    }
   },
   "source": [
    "ParamNB is a small library that represents Parameters (defined using the [Param library](https://github.com/ioam/param)) graphically in a Jupyter notebook using [ipywidgets](https://ipywidgets.readthedocs.io).\n",
    "\n",
    "To use ParamNB, first declare a Parameterized class with some Parameters:"
   ]
  },
  {
   "cell_type": "code",
   "execution_count": null,
   "metadata": {
    "collapsed": false
   },
   "outputs": [],
   "source": [
    "import param, paramnb\n",
    "\n",
    "class Example(param.Parameterized):\n",
    "    x = param.Parameter(default=3.14)\n",
    "    y = param.Parameter(default=\"Not editable\",constant=True)\n",
    "    string_value = param.String(default=\"obj\")\n",
    "    num_int = param.Integer(50000,bounds=(-200,100000))\n",
    "    float_with_hard_bounds = param.Number(8.2,bounds=(7.5,10))\n",
    "    float_with_soft_bounds = param.Number(0.5,bounds=(0,None),softbounds=(0,2))\n",
    "    unbounded_float = param.Number(30.01)    \n",
    "    boolean = param.Boolean(True, doc=\"A sample Boolean parameter\")\n",
    "    select_string = param.ObjectSelector(default=\"yellow\",objects=[\"red\",\"yellow\",\"green\",\"blue\"])\n",
    "    select_fn = param.ObjectSelector(default=list,objects=[list,set,dict])\n",
    "    int_list = paramnb.ListSelector(default=[3,5], objects=[1,3,5,7,9])\n",
    "    single_file = paramnb.FileSelector(path='../*/*.py*')\n",
    "    multiple_files = paramnb.MultiFileSelector(path='../*/*.py?')\n",
    "    \n",
    "Example.num_int"
   ]
  },
  {
   "cell_type": "markdown",
   "metadata": {},
   "source": [
    "You can then display and edit these parameter values at the class level by wrapping the Parameterized class in a ``paramnb.Widgets`` object.  Because we want the user to have an opportunity to edit these values before the remainder of the notebook is executed, we also declare the ``execute`` mode to be `below`, which provide a `Run below` button to allow the user to execute the subsequent cells."
   ]
  },
  {
   "cell_type": "code",
   "execution_count": null,
   "metadata": {
    "collapsed": false,
    "urth": {
     "dashboard": {
      "hidden": true
     }
    }
   },
   "outputs": [],
   "source": [
    "paramnb.Widgets(Example)"
   ]
  },
  {
   "cell_type": "markdown",
   "metadata": {},
   "source": [
    "If you now look at the values of the Parameters at the class level, you can see that they have changed to whatever was selected interactively above:"
   ]
  },
  {
   "cell_type": "code",
   "execution_count": null,
   "metadata": {
    "collapsed": false
   },
   "outputs": [],
   "source": [
    "Example.print_param_defaults()"
   ]
  },
  {
   "cell_type": "markdown",
   "metadata": {},
   "source": [
    "Subsequent cells can now refer to these values, e.g. as `Example.num_int`.  \n",
    "\n",
    "There are several different options to tell `Widgets` how you want the selected values to affect subsequent cells:\n",
    "\n",
    "- **Default**: Leave off the `execute` argument, and simply re-run the subsequent cells whenever you want them to use the newly changed values\n",
    "\n",
    "- **`execute='below'`**: Provide a `Run below` button, which should be pressed after editing the parameter values when ready to run the subsequent cells.\n",
    "\n",
    "- **`execute='next'`**: Provide a `Next` button, which should be pressed after editing the parameter values when ready to run the next cell.  Useful if you want to have a series of cells where the behavior depends on the settings chosen interactively in the previous cell.\n",
    "\n",
    "- **`callback=<some_python_callable>`**: Allows you to define a callback that will be run whenever a parameter value changes (if `Widgets.on_change==True`) or otherwise whenever the `Next` or `Run below` buttons is pressed."
   ]
  }
 ],
 "metadata": {
  "environment": {
   "dependencies": [
    "appnope=0.1.0=py27_0",
    "backports=1.0=py27_0",
    "backports_abc=0.4=py27_0",
    "biggus=0.13.0=py27_0",
    "cartopy=0.13.1=np110py27_0",
    "cf_units=1.1=py27_0",
    "configparser=3.5.0b2=py27_1",
    "curl=7.45.0=0",
    "cycler=0.10.0=py27_0",
    "cython=0.24=py27_0",
    "decorator=4.0.9=py27_0",
    "ecmwf_grib=1.14.2=np110py27_0",
    "entrypoints=0.2=py27_1",
    "freetype=2.5.5=0",
    "funcsigs=1.0.0=py27_0",
    "geos=3.4.2=4",
    "hdf5=1.8.15.1=2",
    "ipykernel=4.3.1=py27_0",
    "ipython=4.1.2=py27_2",
    "ipython_genutils=0.1.0=py27_0",
    "ipywidgets=4.1.1=py27_0",
    "iris=1.9.2=np110_0",
    "jasper=1.900.1=5",
    "jbig=2.1=0",
    "jinja2=2.8=py27_0",
    "jpeg=8d=1",
    "jsonschema=2.4.0=py27_0",
    "jupyter=1.0.0=py27_2",
    "jupyter_client=4.2.2=py27_0",
    "jupyter_console=4.1.1=py27_0",
    "jupyter_core=4.1.0=py27_0",
    "libmo_unpack=3.0=3",
    "libnetcdf=4.3.3.1=3",
    "libpng=1.6.17=0",
    "libtiff=4.0.6=1",
    "libxml2=2.9.2=0",
    "libxslt=1.1.28=2",
    "lxml=3.6.0=py27_0",
    "markupsafe=0.23=py27_0",
    "matplotlib=1.5.1=np110py27_0",
    "mistune=0.7.2=py27_1",
    "mkl=11.3.1=0",
    "mo_pack=0.2.0=np110py27_1",
    "mock=2.0.0=py27_0",
    "nbconvert=4.2.0=py27_0",
    "nbformat=4.0.1=py27_0",
    "netcdf4=1.2.2=np110py27_0",
    "nose=1.3.7=py27_0",
    "notebook=4.1.0=py27_2",
    "numpy=1.10.4=py27_0",
    "openssl=1.0.2g=0",
    "owslib=0.10.3=py27_0",
    "pandas=0.18.0=np111py27_0",
    "path.py=8.2=py27_0",
    "pbr=1.8.0=py27_0",
    "pexpect=4.0.1=py27_0",
    "pickleshare=0.5=py27_0",
    "pillow=3.2.0=py27_0",
    "pip=8.1.1=py27_1",
    "proj.4=4.9.1=1",
    "ptyprocess=0.5=py27_0",
    "pyepsg=0.2.0=py27_0",
    "pygments=2.1.3=py27_0",
    "pyke=1.1.1=py27_2",
    "pyparsing=2.0.3=py27_0",
    "pyproj=1.9.4=py27_1",
    "pyqt=4.11.4=py27_1",
    "pyshp=1.2.3=py27_0",
    "python=2.7.11=0",
    "python-dateutil=2.5.2=py27_0",
    "pytz=2016.3=py27_0",
    "pyzmq=15.2.0=py27_0",
    "qt=4.8.7=1",
    "qtconsole=4.2.1=py27_0",
    "readline=6.2=2",
    "requests=2.9.1=py27_0",
    "scipy=0.17.0=np110py27_0",
    "setuptools=20.6.7=py27_0",
    "shapely=1.5.13=np110py27_1",
    "simplegeneric=0.8.1=py27_0",
    "singledispatch=3.4.0.3=py27_0",
    "sip=4.16.9=py27_0",
    "six=1.10.0=py27_0",
    "sqlite=3.9.2=0",
    "ssl_match_hostname=3.4.0.2=py27_1",
    "terminado=0.5=py27_1",
    "tk=8.5.18=0",
    "tornado=4.3=py27_0",
    "traitlets=4.2.1=py27_0",
    "udunits2=2.2.20=0",
    "wheel=0.29.0=py27_0",
    "xz=5.0.5=1",
    "zlib=1.2.8=0",
    {
     "pip": [
      "backports-abc==0.4",
      "backports.ssl-match-hostname==3.4.0.2",
      "cartopy (/Users/philippjfr/cartopy/lib)==0.14.0",
      "cf-units==1.1",
      "holocube (/Users/philippjfr/cube-explorer)==0.0.1",
      "holoviews==1.4.3",
      "ipython-genutils==0.1.0",
      "iris (/Users/philippjfr/iris/lib)==1.10.0.dev0",
      "jupyter-client==4.2.2",
      "jupyter-console==4.1.1",
      "jupyter-core==4.1.0",
      "lancet-ioam==0.9.0",
      "mo-pack==0.2.0",
      "param==1.3.2",
      "paramnb (/Users/philippjfr/paramnb)==0.0.1"
     ]
    }
   ],
   "name": "metoffice"
  },
  "hide_input": false,
  "kernelspec": {
   "display_name": "Python 2",
   "language": "python",
   "name": "python2"
  },
  "language_info": {
   "codemirror_mode": {
    "name": "ipython",
    "version": 2
   },
   "file_extension": ".py",
   "mimetype": "text/x-python",
   "name": "python",
   "nbconvert_exporter": "python",
   "pygments_lexer": "ipython2",
   "version": "2.7.11"
  },
  "urth": {
   "dashboard": {
    "cellMargin": 10,
    "defaultCellHeight": 20,
    "layoutStrategy": "packed",
    "maxColumns": 12
   }
  },
  "widgets": {
   "state": {},
   "version": "1.1.1"
  }
 },
 "nbformat": 4,
 "nbformat_minor": 0
}
